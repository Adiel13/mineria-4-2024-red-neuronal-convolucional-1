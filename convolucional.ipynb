{
  "nbformat": 4,
  "nbformat_minor": 0,
  "metadata": {
    "colab": {
      "provenance": [],
      "authorship_tag": "ABX9TyMAKSpXEWHVBy8cxMHb14Bp",
      "include_colab_link": true
    },
    "kernelspec": {
      "name": "python3",
      "display_name": "Python 3"
    },
    "language_info": {
      "name": "python"
    }
  },
  "cells": [
    {
      "cell_type": "markdown",
      "metadata": {
        "id": "view-in-github",
        "colab_type": "text"
      },
      "source": [
        "<a href=\"https://colab.research.google.com/github/Adiel13/mineria-4-2024-red-neuronal-convolucional-1/blob/main/convolucional.ipynb\" target=\"_parent\"><img src=\"https://colab.research.google.com/assets/colab-badge.svg\" alt=\"Open In Colab\"/></a>"
      ]
    },
    {
      "cell_type": "markdown",
      "source": [
        "# Importar librerías y dependencias"
      ],
      "metadata": {
        "id": "L5CtyRy-_-8-"
      }
    },
    {
      "cell_type": "code",
      "execution_count": 1,
      "metadata": {
        "id": "DdjAvzYF_iJr"
      },
      "outputs": [],
      "source": [
        "import tensorflow as tf\n",
        "from tensorflow.keras.models import Sequential\n",
        "from tensorflow.keras.layers import Conv2D, MaxPooling2D, Flatten, Dense\n",
        "from tensorflow.keras.utils import to_categorical\n",
        "\n",
        "import numpy as np\n",
        "import matplotlib.pyplot as plt"
      ]
    },
    {
      "cell_type": "markdown",
      "source": [
        "# Cargar datos de ejemplo de Tensorflow"
      ],
      "metadata": {
        "id": "4Bg6i-3iBeZZ"
      }
    },
    {
      "cell_type": "code",
      "source": [
        "(x_train, y_train), (x_test, y_test) = tf.keras.datasets.mnist.load_data()"
      ],
      "metadata": {
        "id": "oQFc4FZXBc3S"
      },
      "execution_count": 23,
      "outputs": []
    },
    {
      "cell_type": "code",
      "source": [
        "print(len(x_train), len(y_train))\n"
      ],
      "metadata": {
        "colab": {
          "base_uri": "https://localhost:8080/"
        },
        "id": "LVxND9DIMY6n",
        "outputId": "bbcd4e6f-1da2-41ec-b5f0-fac9862f6de7"
      },
      "execution_count": 10,
      "outputs": [
        {
          "output_type": "stream",
          "name": "stdout",
          "text": [
            "60000 60000\n"
          ]
        }
      ]
    },
    {
      "cell_type": "markdown",
      "source": [
        "# Convertir imagenes a rejillas/grids"
      ],
      "metadata": {
        "id": "b_b2TGdGB1O4"
      }
    },
    {
      "cell_type": "code",
      "source": [
        "x_train = x_train / 255.0\n",
        "x_test = x_test / 255.0"
      ],
      "metadata": {
        "id": "WJn7eKMBByrf"
      },
      "execution_count": 24,
      "outputs": []
    },
    {
      "cell_type": "markdown",
      "source": [
        "# Agregar dimensional de red"
      ],
      "metadata": {
        "id": "7ND7qXL5CRAG"
      }
    },
    {
      "cell_type": "code",
      "source": [
        "x_train = np.expand_dims(x_train, axis = -1)\n",
        "x_test = np.expand_dims(x_test, axis = -1)"
      ],
      "metadata": {
        "id": "clLSVW-mClQe"
      },
      "execution_count": 25,
      "outputs": []
    },
    {
      "cell_type": "markdown",
      "source": [
        "# Etiquetación de datos/rejillas"
      ],
      "metadata": {
        "id": "NbqzC83-C15Z"
      }
    },
    {
      "cell_type": "code",
      "source": [
        "y_train = to_categorical(y_train, 10)\n",
        "y_test = to_categorical(y_test, 10)"
      ],
      "metadata": {
        "id": "CLcCJ-4aC-Z-"
      },
      "execution_count": 26,
      "outputs": []
    },
    {
      "cell_type": "markdown",
      "source": [
        "# Diseño de la red neuronal convolucional"
      ],
      "metadata": {
        "id": "3xbUgfxOD42X"
      }
    },
    {
      "cell_type": "code",
      "source": [
        "model = Sequential([\n",
        "  Conv2D(32,(3,3), activation='relu',input_shape=(28,28,1)),\n",
        "  MaxPooling2D((2,2)),\n",
        "  Conv2D(64,(3,3), activation='relu'),\n",
        "  MaxPooling2D((2,2)),\n",
        "  Flatten(),\n",
        "  Dense(128, activation='relu'),\n",
        "  Dense(10, activation='softmax') #capa de salida, 10 clases ¿por qué? porque son 10 digitos.\n",
        "])"
      ],
      "metadata": {
        "id": "7pM4ncDiD4pQ"
      },
      "execution_count": 27,
      "outputs": []
    },
    {
      "cell_type": "markdown",
      "source": [
        "# Compilación del modelo"
      ],
      "metadata": {
        "id": "x3Rtsd4QKH9-"
      }
    },
    {
      "cell_type": "code",
      "source": [
        "model.compile(optimizer='adam', loss='categorical_crossentropy', metrics =['accuracy'])"
      ],
      "metadata": {
        "id": "Q5YqwlYgKHxf"
      },
      "execution_count": 29,
      "outputs": []
    },
    {
      "cell_type": "code",
      "source": [
        "print(len(x_test), len(y_test))\n"
      ],
      "metadata": {
        "colab": {
          "base_uri": "https://localhost:8080/"
        },
        "id": "d0SgCK24MgHf",
        "outputId": "b1a47099-d5f1-491a-edc4-dc814f383aba"
      },
      "execution_count": 30,
      "outputs": [
        {
          "output_type": "stream",
          "name": "stdout",
          "text": [
            "10000 10000\n"
          ]
        }
      ]
    },
    {
      "cell_type": "markdown",
      "source": [
        "# Entrenamiento de la red neuronal convolucional"
      ],
      "metadata": {
        "id": "zL3myKKaKkzu"
      }
    },
    {
      "cell_type": "code",
      "source": [
        "model.fit(x_train, y_train, epochs = 5, batch_size = 32, validation_data=(x_test, y_test))\n"
      ],
      "metadata": {
        "colab": {
          "base_uri": "https://localhost:8080/"
        },
        "id": "jqr9-HOJKoE2",
        "outputId": "cc427181-7082-425c-bc4d-1abf02e8bbd6"
      },
      "execution_count": 31,
      "outputs": [
        {
          "output_type": "stream",
          "name": "stdout",
          "text": [
            "Epoch 1/5\n",
            "\u001b[1m1875/1875\u001b[0m \u001b[32m━━━━━━━━━━━━━━━━━━━━\u001b[0m\u001b[37m\u001b[0m \u001b[1m62s\u001b[0m 32ms/step - accuracy: 0.9088 - loss: 0.2955 - val_accuracy: 0.9868 - val_loss: 0.0448\n",
            "Epoch 2/5\n",
            "\u001b[1m1875/1875\u001b[0m \u001b[32m━━━━━━━━━━━━━━━━━━━━\u001b[0m\u001b[37m\u001b[0m \u001b[1m82s\u001b[0m 32ms/step - accuracy: 0.9859 - loss: 0.0453 - val_accuracy: 0.9876 - val_loss: 0.0385\n",
            "Epoch 3/5\n",
            "\u001b[1m1875/1875\u001b[0m \u001b[32m━━━━━━━━━━━━━━━━━━━━\u001b[0m\u001b[37m\u001b[0m \u001b[1m82s\u001b[0m 32ms/step - accuracy: 0.9907 - loss: 0.0285 - val_accuracy: 0.9893 - val_loss: 0.0372\n",
            "Epoch 4/5\n",
            "\u001b[1m1875/1875\u001b[0m \u001b[32m━━━━━━━━━━━━━━━━━━━━\u001b[0m\u001b[37m\u001b[0m \u001b[1m58s\u001b[0m 31ms/step - accuracy: 0.9940 - loss: 0.0194 - val_accuracy: 0.9915 - val_loss: 0.0267\n",
            "Epoch 5/5\n",
            "\u001b[1m1875/1875\u001b[0m \u001b[32m━━━━━━━━━━━━━━━━━━━━\u001b[0m\u001b[37m\u001b[0m \u001b[1m82s\u001b[0m 31ms/step - accuracy: 0.9951 - loss: 0.0141 - val_accuracy: 0.9906 - val_loss: 0.0316\n"
          ]
        },
        {
          "output_type": "execute_result",
          "data": {
            "text/plain": [
              "<keras.src.callbacks.history.History at 0x7ba4f461d5a0>"
            ]
          },
          "metadata": {},
          "execution_count": 31
        }
      ]
    },
    {
      "cell_type": "markdown",
      "source": [
        "# Presición del modelo"
      ],
      "metadata": {
        "id": "0Tpm7imROijX"
      }
    },
    {
      "cell_type": "code",
      "source": [
        "t_loss, t_acc = model.evaluate(x_test,y_test)\n",
        "print(t_acc)"
      ],
      "metadata": {
        "colab": {
          "base_uri": "https://localhost:8080/"
        },
        "id": "jglIgeMkOiTf",
        "outputId": "6b6c6874-4557-4453-b53f-9b7e31d7f734"
      },
      "execution_count": 33,
      "outputs": [
        {
          "output_type": "stream",
          "name": "stdout",
          "text": [
            "\u001b[1m313/313\u001b[0m \u001b[32m━━━━━━━━━━━━━━━━━━━━\u001b[0m\u001b[37m\u001b[0m \u001b[1m3s\u001b[0m 9ms/step - accuracy: 0.9889 - loss: 0.0394\n",
            "0.9905999898910522\n"
          ]
        }
      ]
    },
    {
      "cell_type": "markdown",
      "source": [
        "# Predicciones"
      ],
      "metadata": {
        "id": "4MnlKqd0OSrA"
      }
    },
    {
      "cell_type": "code",
      "source": [
        "from tensorflow.keras.preprocessing.image import load_img, img_to_array\n",
        "\n",
        "img_path = \"2.jpg\"\n",
        "\n",
        "img = load_img(img_path, color_mode =\"grayscale\", target_size =(28,28))\n",
        "img_arr = img_to_array(img) / 255.0\n",
        "img_arr = np.expand_dims(img_arr, axis = 0)\n",
        "\n",
        "p = model.predict(img_arr)\n",
        "print(p)"
      ],
      "metadata": {
        "colab": {
          "base_uri": "https://localhost:8080/"
        },
        "id": "8ix2ayE9OVF_",
        "outputId": "7c7ae47b-6157-48d0-f9b8-61b8e25cd29a"
      },
      "execution_count": 34,
      "outputs": [
        {
          "output_type": "stream",
          "name": "stdout",
          "text": [
            "\u001b[1m1/1\u001b[0m \u001b[32m━━━━━━━━━━━━━━━━━━━━\u001b[0m\u001b[37m\u001b[0m \u001b[1m0s\u001b[0m 95ms/step\n",
            "[[0.0293207  0.02659322 0.5616285  0.01407067 0.03289839 0.00760479\n",
            "  0.01509038 0.01496856 0.2525113  0.04531356]]\n"
          ]
        }
      ]
    },
    {
      "cell_type": "code",
      "source": [
        "img_path = \"7.jpg\"\n",
        "\n",
        "img = load_img(img_path, color_mode =\"grayscale\", target_size =(28,28))\n",
        "img_arr = img_to_array(img) / 255.0\n",
        "img_arr = np.expand_dims(img_arr, axis = 0)\n",
        "\n",
        "p = model.predict(img_arr)\n",
        "print(p)"
      ],
      "metadata": {
        "colab": {
          "base_uri": "https://localhost:8080/"
        },
        "id": "Gf8R7uY4QfVp",
        "outputId": "c21afcd8-d0e6-4722-d905-d1220e8f1cc7"
      },
      "execution_count": 35,
      "outputs": [
        {
          "output_type": "stream",
          "name": "stdout",
          "text": [
            "\u001b[1m1/1\u001b[0m \u001b[32m━━━━━━━━━━━━━━━━━━━━\u001b[0m\u001b[37m\u001b[0m \u001b[1m0s\u001b[0m 42ms/step\n",
            "[[0.06718434 0.00372198 0.15983286 0.00399965 0.04207346 0.01778775\n",
            "  0.01338581 0.01595036 0.6471387  0.02892503]]\n"
          ]
        }
      ]
    },
    {
      "cell_type": "code",
      "source": [
        "img_path = \"7_2.jpg\"\n",
        "\n",
        "img = load_img(img_path, color_mode =\"grayscale\", target_size =(28,28))\n",
        "img_arr = img_to_array(img) / 255.0\n",
        "img_arr = np.expand_dims(img_arr, axis = 0)\n",
        "\n",
        "p = model.predict(img_arr)\n",
        "print(p)"
      ],
      "metadata": {
        "colab": {
          "base_uri": "https://localhost:8080/"
        },
        "id": "LbMogmE0RCeX",
        "outputId": "4ce385c1-57b5-49dc-b203-f907fe915bbb"
      },
      "execution_count": 36,
      "outputs": [
        {
          "output_type": "stream",
          "name": "stdout",
          "text": [
            "\u001b[1m1/1\u001b[0m \u001b[32m━━━━━━━━━━━━━━━━━━━━\u001b[0m\u001b[37m\u001b[0m \u001b[1m0s\u001b[0m 28ms/step\n",
            "[[0.07603495 0.02288941 0.0932584  0.00430939 0.03405721 0.04625381\n",
            "  0.28999558 0.00230972 0.42342234 0.00746915]]\n"
          ]
        }
      ]
    },
    {
      "cell_type": "code",
      "source": [
        "img_path = \"3.jpg\"\n",
        "\n",
        "img = load_img(img_path, color_mode =\"grayscale\", target_size =(28,28))\n",
        "img_arr = img_to_array(img) / 255.0\n",
        "img_arr = np.expand_dims(img_arr, axis = 0)\n",
        "\n",
        "p = model.predict(img_arr)\n",
        "print(p)"
      ],
      "metadata": {
        "colab": {
          "base_uri": "https://localhost:8080/"
        },
        "id": "fqEHC-iuRfG4",
        "outputId": "e624c41b-df03-458d-a83f-56ff16be7226"
      },
      "execution_count": 37,
      "outputs": [
        {
          "output_type": "stream",
          "name": "stdout",
          "text": [
            "\u001b[1m1/1\u001b[0m \u001b[32m━━━━━━━━━━━━━━━━━━━━\u001b[0m\u001b[37m\u001b[0m \u001b[1m0s\u001b[0m 24ms/step\n",
            "[[0.08294179 0.00811965 0.02115096 0.00419201 0.2823846  0.04645764\n",
            "  0.05242407 0.01343185 0.4140512  0.07484619]]\n"
          ]
        }
      ]
    },
    {
      "cell_type": "code",
      "source": [
        "img_path = \"4.jpg\"\n",
        "\n",
        "img = load_img(img_path, color_mode =\"grayscale\", target_size =(28,28))\n",
        "img_arr = img_to_array(img) / 255.0\n",
        "img_arr = np.expand_dims(img_arr, axis = 0)\n",
        "\n",
        "p = model.predict(img_arr)\n",
        "print(p)"
      ],
      "metadata": {
        "colab": {
          "base_uri": "https://localhost:8080/"
        },
        "id": "C7IBwJFuR9Sn",
        "outputId": "8870d3fa-18fe-427f-ad41-a8bbd2564813"
      },
      "execution_count": 39,
      "outputs": [
        {
          "output_type": "stream",
          "name": "stdout",
          "text": [
            "\u001b[1m1/1\u001b[0m \u001b[32m━━━━━━━━━━━━━━━━━━━━\u001b[0m\u001b[37m\u001b[0m \u001b[1m0s\u001b[0m 42ms/step\n",
            "[[0.02476653 0.01550846 0.12481921 0.11938293 0.01369058 0.0603747\n",
            "  0.00600703 0.3650812  0.23845266 0.03191667]]\n"
          ]
        }
      ]
    },
    {
      "cell_type": "code",
      "source": [
        "img_path = \"4_1.jpg\"\n",
        "\n",
        "img = load_img(img_path, color_mode =\"grayscale\", target_size =(28,28))\n",
        "img_arr = img_to_array(img) / 255.0\n",
        "img_arr = np.expand_dims(img_arr, axis = 0)\n",
        "\n",
        "p = model.predict(img_arr)\n",
        "print(p)"
      ],
      "metadata": {
        "colab": {
          "base_uri": "https://localhost:8080/"
        },
        "id": "Xshy8M3HSfaJ",
        "outputId": "e9233a0a-1210-4276-84d2-6edad98f89bf"
      },
      "execution_count": 40,
      "outputs": [
        {
          "output_type": "stream",
          "name": "stdout",
          "text": [
            "\u001b[1m1/1\u001b[0m \u001b[32m━━━━━━━━━━━━━━━━━━━━\u001b[0m\u001b[37m\u001b[0m \u001b[1m0s\u001b[0m 26ms/step\n",
            "[[0.04877064 0.01718814 0.11854133 0.4078723  0.004063   0.01385319\n",
            "  0.01232382 0.03213985 0.33521625 0.0100315 ]]\n"
          ]
        }
      ]
    }
  ]
}